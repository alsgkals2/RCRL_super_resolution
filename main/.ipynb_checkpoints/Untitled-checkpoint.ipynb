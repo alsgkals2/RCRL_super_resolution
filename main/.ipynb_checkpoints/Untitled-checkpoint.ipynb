{
 "cells": [
  {
   "cell_type": "code",
   "execution_count": 29,
   "id": "bb15b51d-be9a-440e-802c-34d4aa57e9a5",
   "metadata": {},
   "outputs": [
    {
     "name": "stdout",
     "output_type": "stream",
     "text": [
      "[[], [], []]\n",
      "[[1, 2, 3], [], []]\n",
      "[[1, 2], [], []]\n"
     ]
    }
   ],
   "source": [
    "import numpy\n",
    "num = 3\n",
    "plate = [i+1 for i in range(num)]\n",
    "# d1 = numpy.zeros((3,3))\n",
    "d = []\n",
    "[d.append([]) for i in range(3)]\n",
    "\n",
    "print(d)\n",
    "# [d[0].append(i) for i in plate]\n",
    "for i in plate:\n",
    "    d[0].append(i)\n",
    "\n",
    "\n",
    "print(d)\n",
    "d[0].pop()\n",
    "print(d)\n",
    "\n",
    "def in1():\n",
    "    \n",
    "    \n",
    "\n",
    "\n",
    "# print(plate)\n"
   ]
  },
  {
   "cell_type": "code",
   "execution_count": null,
   "id": "6fad895d-b419-4e96-a844-d04a195bfb6b",
   "metadata": {},
   "outputs": [],
   "source": [
    "\n",
    "\n",
    "1 3\n",
    "1 2\n",
    "3 2\n",
    "1 3\n",
    "2 3\n",
    "1 2 \n",
    "3 1\n",
    "2 3\n",
    "1 3\n",
    "\n",
    "\n",
    "1 3\n",
    "1 2\n",
    "3 1\n",
    "2 3\n",
    "1 3\n",
    "\n",
    "1 3\n"
   ]
  }
 ],
 "metadata": {
  "kernelspec": {
   "display_name": "Python 3 (ipykernel)",
   "language": "python",
   "name": "python3"
  },
  "language_info": {
   "codemirror_mode": {
    "name": "ipython",
    "version": 3
   },
   "file_extension": ".py",
   "mimetype": "text/x-python",
   "name": "python",
   "nbconvert_exporter": "python",
   "pygments_lexer": "ipython3",
   "version": "3.9.7"
  },
  "widgets": {
   "application/vnd.jupyter.widget-state+json": {
    "state": {},
    "version_major": 2,
    "version_minor": 0
   }
  }
 },
 "nbformat": 4,
 "nbformat_minor": 5
}
